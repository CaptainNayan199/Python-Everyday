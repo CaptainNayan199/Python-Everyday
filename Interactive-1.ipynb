{
 "cells": [
  {
   "cell_type": "markdown",
   "metadata": {
    "isInteractiveWindowMessageCell": true
   },
   "source": [
    "Connected to Python 3.12.0"
   ]
  },
  {
   "cell_type": "code",
   "execution_count": 1,
   "metadata": {},
   "outputs": [
    {
     "name": "stdout",
     "output_type": "stream",
     "text": [
      "<zip object at 0x000001A263215640>\n"
     ]
    }
   ],
   "source": [
    "# So today we are going to see about a popular method in python, that is zip function.\n",
    "# So what is zip function ?\n",
    "# zip function is a special type of method in python that returns a zip object which is actually an iterator of tuples or list or any other iterable object in python.\n",
    "# This function basically aggregates two or more iterables like sets, tuples, list, etc. After aggreation, it creates a tuples of zip elements.\n",
    "# Let's see with an example\n",
    "\n",
    "s_name = [\"Nayan\", \"Ujjwal\", \"Roshan\", \"Tika\", \"Santosh\"]\n",
    "s_roll = [37, 37, 53, 69, 58]\n",
    "\n",
    "zipped_elements = zip(s_name, s_roll)\n",
    "print(zipped_elements)"
   ]
  },
  {
   "cell_type": "code",
   "execution_count": 2,
   "metadata": {},
   "outputs": [
    {
     "name": "stdout",
     "output_type": "stream",
     "text": [
      "<zip object at 0x000001A263215180>\n"
     ]
    }
   ],
   "source": [
    "s_name = [\"Nayan\", \"Ujjwal\", \"Roshan\", \"Tika\", \"Santosh\"]\n",
    "s_roll = [37, 37, 53, 69, 58]\n",
    "\n",
    "zipped_elements = zip(s_name, s_roll)\n",
    "print(zipped_elements)"
   ]
  },
  {
   "cell_type": "code",
   "execution_count": 1,
   "metadata": {},
   "outputs": [
    {
     "name": "stdout",
     "output_type": "stream",
     "text": [
      "('Nayan', 37)\n",
      "('Ujjwal', 37)\n",
      "('Roshan', 53)\n",
      "('Tika', 69)\n",
      "('Santosh', 58)\n"
     ]
    }
   ],
   "source": [
    "s_name = [\"Nayan\", \"Ujjwal\", \"Roshan\", \"Tika\", \"Santosh\"]\n",
    "s_roll = [37, 37, 53, 69, 58]\n",
    "\n",
    "zipped_elements = zip(s_name, s_roll)\n",
    "\n",
    "for items in zipped_elements:\n",
    "    print(items)"
   ]
  },
  {
   "cell_type": "code",
   "execution_count": 2,
   "metadata": {},
   "outputs": [
    {
     "name": "stdout",
     "output_type": "stream",
     "text": [
      "('Nayan', 37)\n",
      "('Ujjwal', 37)\n",
      "('Roshan', 53)\n",
      "('Tika', 69)\n",
      "('Santosh', 58)\n"
     ]
    }
   ],
   "source": [
    "s_name = [\"Nayan\", \"Ujjwal\", \"Roshan\", \"Tika\", \"Santosh\"]\n",
    "s_roll = (37, 37, 53, 69, 58)\n",
    "\n",
    "zipped_elements = zip(s_name, s_roll)\n",
    "\n",
    "for items in zipped_elements:\n",
    "    print(items)"
   ]
  }
 ],
 "metadata": {
  "kernelspec": {
   "display_name": "Python 3",
   "language": "python",
   "name": "python3"
  },
  "language_info": {
   "codemirror_mode": {
    "name": "ipython",
    "version": 3
   },
   "file_extension": ".py",
   "mimetype": "text/x-python",
   "name": "python",
   "nbconvert_exporter": "python",
   "pygments_lexer": "ipython3",
   "version": "3.12.0"
  }
 },
 "nbformat": 4,
 "nbformat_minor": 2
}
